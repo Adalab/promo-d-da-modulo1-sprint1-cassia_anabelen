{
 "cells": [
  {
   "attachments": {},
   "cell_type": "markdown",
   "metadata": {},
   "source": [
    "# Ejercicios Sentencias de control"
   ]
  },
  {
   "cell_type": "code",
   "execution_count": 5,
   "metadata": {},
   "outputs": [
    {
     "name": "stdout",
     "output_type": "stream",
     "text": [
      "tu nota es 52 que corresponde a una E\n"
     ]
    }
   ],
   "source": [
    "# ejercicio 1\n",
    "\n",
    "nota = int(input(\"escribe la nota\"))\n",
    "\n",
    "if nota < 25:\n",
    "    print(f\"tu nota es {nota} que corresponde a una F\")\n",
    "elif 25 <= nota >= 45:\n",
    "    print(f\"tu nota es {nota} que corresponde a una E\")\n",
    "elif 45 <= nota >= 50:\n",
    "    print(f\"tu nota es {nota} que corresponde a una D\")\n",
    "elif 50 <= nota >= 60:\n",
    "    print(f\"tu nota es {nota} que corresponde a una C\")\n",
    "elif 60 <= nota >= 80:\n",
    "    print(f\"tu nota es {nota} que corresponde a una B\")\n",
    "elif nota > 80:\n",
    "    print(f\"tu nota es {nota} que corresponde a una A\")\n"
   ]
  },
  {
   "cell_type": "code",
   "execution_count": 7,
   "metadata": {},
   "outputs": [],
   "source": [
    "## ejercicio 2\n",
    "edad1 = int(input(\"dime tu edad\"))\n",
    "edad2 = int(input(\"dime tu edad\"))\n",
    "edad3 = int(input(\"dime tu edad\"))\n"
   ]
  },
  {
   "cell_type": "code",
   "execution_count": 9,
   "metadata": {},
   "outputs": [
    {
     "name": "stdout",
     "output_type": "stream",
     "text": [
      "edad3 eres el mayor\n"
     ]
    }
   ],
   "source": [
    "if edad1 > edad2 and edad1 > edad3:\n",
    "    print(\"edad1 eres el mayor\")\n",
    "elif edad2 > edad1 and edad2 > edad3:\n",
    "    print(\"edad2 eres el mayor\")\n",
    "else:\n",
    "    print(\"edad3 eres el mayor\")\n"
   ]
  },
  {
   "cell_type": "code",
   "execution_count": 13,
   "metadata": {},
   "outputs": [
    {
     "name": "stdout",
     "output_type": "stream",
     "text": [
      "Bienvenido a borde de 007\n"
     ]
    }
   ],
   "source": [
    "## ejercicio 3\n",
    "nombre = input(\"escribe tu nombre\")\n",
    "\n",
    "if nombre == \"bond\":\n",
    "    print(\"Bienvenido a borde de 007\")\n",
    "else:\n",
    "    print(f\"buenos dias {nombre}\")\n"
   ]
  },
  {
   "cell_type": "code",
   "execution_count": 18,
   "metadata": {},
   "outputs": [],
   "source": [
    "## ejercicio 4\n",
    "\n",
    "tree = {\"Taiwan\": 69593,\n",
    "        \"Japan\": 49894, \n",
    "        \"Russia\": 41396, \n",
    "        \"Canada\": 36388, \n",
    "        \"Bulgaria\": 24987}"
   ]
  },
  {
   "cell_type": "code",
   "execution_count": 23,
   "metadata": {},
   "outputs": [
    {
     "name": "stdout",
     "output_type": "stream",
     "text": [
      "['Taiwan', 'Japan', 'Russia']\n"
     ]
    }
   ],
   "source": [
    "masarboles = []\n",
    "if tree[\"Taiwan\"] > 40000:\n",
    "    masarboles.append(\"Taiwan\")\n",
    "if tree[\"Japan\"] > 40000:\n",
    "    masarboles.append(\"Japan\")\n",
    "if tree[\"Russia\"] > 40000:\n",
    "    masarboles.append(\"Russia\")\n",
    "if tree[\"Canada\"] > 40000:\n",
    "    masarboles.append(\"Canada\")\n",
    "if tree[\"Bulgaria\"] > 40000:\n",
    "    masarboles.append(\"Bulgaria\")\n",
    "print(masarboles)"
   ]
  },
  {
   "cell_type": "code",
   "execution_count": null,
   "metadata": {},
   "outputs": [],
   "source": [
    "## ejercicio 5\n",
    "\n",
    "##grupo A = mujeres nombre anterior a M y \n",
    "          #  hombres nombre posteriora N\n",
    "## grupo B = el resto"
   ]
  },
  {
   "cell_type": "markdown",
   "metadata": {},
   "source": []
  },
  {
   "cell_type": "code",
   "execution_count": 25,
   "metadata": {},
   "outputs": [],
   "source": [
    "\n",
    "persona1 = [input(\"escribe tu nombre\"), input(\"escribe `h` si eres hombre y `m` si eres mujer\")]"
   ]
  },
  {
   "cell_type": "code",
   "execution_count": 26,
   "metadata": {},
   "outputs": [
    {
     "name": "stdout",
     "output_type": "stream",
     "text": [
      "pertenevces al grupo A\n"
     ]
    }
   ],
   "source": [
    "if persona1[0] < \"m\" and persona1[1] == \"m\":\n",
    "    print(\"pertenevces al grupo A\")\n",
    "elif persona1[0] > \"n\" and persona1[1] == \"h\":\n",
    "    print(\"pertenevces al grupo A\")\n",
    "else:\n",
    "    print(\"perteneces al grupo B\")\n",
    "\n",
    "\n"
   ]
  },
  {
   "attachments": {},
   "cell_type": "markdown",
   "metadata": {},
   "source": [
    "### ejercicio 6\n",
    "\n",
    "Escribid un programa que:\n",
    "- Dada la variable z con valor 0, es decir z = 0.\n",
    "- Mientras que el valor de z sea menor que 3:\n",
    "    - Si el valor de z es igual a 0:\n",
    "    - Printead el valor de z\n",
    "    - Almancenad el valor en una lista auxiliar\n",
    "    - Sumadle 1 al valor de z\n",
    "    - Si el valor de z es igual a 1:\n",
    "Printead el valor de z\n",
    "Almancenad el valor en una lista auxiliar\n",
    "Sumadle 1 al valor de z\n",
    "En caso de que no se cumplan las condiciones anteriores:\n",
    "Printead el valor de z\n",
    "Sumadle 1 al valor de z"
   ]
  },
  {
   "cell_type": "code",
   "execution_count": 1,
   "metadata": {},
   "outputs": [
    {
     "name": "stdout",
     "output_type": "stream",
     "text": [
      "0\n",
      "1\n",
      "2\n",
      "[0, 1]\n"
     ]
    }
   ],
   "source": [
    "z = 0\n",
    "lista = []\n",
    "\n",
    "while z < 3:\n",
    "    if z == 0:\n",
    "        print(z)\n",
    "        lista.append(z)\n",
    "        z += 1\n",
    "    elif z == 1:\n",
    "        print(z)\n",
    "        lista.append(z)\n",
    "        z += 1\n",
    "    else:\n",
    "        print(z)\n",
    "        z += 1\n",
    "        \n",
    "print(lista)\n",
    "        \n",
    "        \n",
    "        "
   ]
  }
 ],
 "metadata": {
  "kernelspec": {
   "display_name": "Python 3",
   "language": "python",
   "name": "python3"
  },
  "language_info": {
   "codemirror_mode": {
    "name": "ipython",
    "version": 3
   },
   "file_extension": ".py",
   "mimetype": "text/x-python",
   "name": "python",
   "nbconvert_exporter": "python",
   "pygments_lexer": "ipython3",
   "version": "3.9.7"
  },
  "orig_nbformat": 4
 },
 "nbformat": 4,
 "nbformat_minor": 2
}

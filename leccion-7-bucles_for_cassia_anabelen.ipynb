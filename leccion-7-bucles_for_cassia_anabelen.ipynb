{
 "cells": [
  {
   "cell_type": "code",
   "execution_count": 1,
   "metadata": {},
   "outputs": [],
   "source": [
    "# PAIR PROGRAMMING- CASSIA- ANA_BELEN"
   ]
  },
  {
   "attachments": {},
   "cell_type": "markdown",
   "metadata": {},
   "source": [
    "#####\n",
    " EJERCICIO1. Escribid un programa que pregunte al usuario una cantidad a invertir, el interés anual y el número de años, y muestre por pantalla el capital obtenido en la inversión cada año que dura la inversión."
   ]
  },
  {
   "cell_type": "code",
   "execution_count": 12,
   "metadata": {},
   "outputs": [],
   "source": [
    "cantidad = int(input(\"¿que cantidad quieres invertir?\"))\n",
    "interes_anual = float(input(\"¿cual sera tu interes anual?\"))\n",
    "años_inversion = int(input(\"¿cuantos años vas a invertir?\"))"
   ]
  },
  {
   "cell_type": "code",
   "execution_count": 15,
   "metadata": {},
   "outputs": [
    {
     "name": "stdout",
     "output_type": "stream",
     "text": [
      "año 0 : tienes 1268.24\n",
      "año 1 : tienes 1293.61\n",
      "año 2 : tienes 1319.48\n",
      "año 3 : tienes 1345.87\n",
      "año 4 : tienes 1372.79\n",
      "año 5 : tienes 1400.24\n",
      "año 6 : tienes 1428.25\n",
      "año 7 : tienes 1456.81\n",
      "año 8 : tienes 1485.95\n",
      "año 9 : tienes 1515.67\n",
      "año 10 : tienes 1545.98\n"
     ]
    }
   ],
   "source": [
    "for año in range(años_inversion + 1):\n",
    "    cantidad = cantidad + (cantidad * interes_anual)\n",
    "    print(f\"año {año} : tienes {round(cantidad,2)}\")\n"
   ]
  },
  {
   "attachments": {},
   "cell_type": "markdown",
   "metadata": {},
   "source": [
    "#### ejercicio 2: Escribid un programa en el que se pregunte al usuario por una frase y una letra, y muestre por pantalla el número de veces que aparece la letra en la frase.\n",
    "\n",
    "\n"
   ]
  },
  {
   "cell_type": "code",
   "execution_count": 39,
   "metadata": {},
   "outputs": [
    {
     "name": "stdout",
     "output_type": "stream",
     "text": [
      "la letra o aparece 3 veces\n"
     ]
    }
   ],
   "source": [
    "frase = list(input(\"escribe una frase\"))\n",
    "letra =  input(\"escribe una letra\")\n",
    "print(f\"la letra {letra} aparece\", frase.count(letra), \"veces\")"
   ]
  },
  {
   "cell_type": "markdown",
   "metadata": {},
   "source": [
    "#### ejercicio 3: Escribid un programa que nos devuelva la tabla de multiplicar de un número especificado en una función input"
   ]
  },
  {
   "cell_type": "code",
   "execution_count": 45,
   "metadata": {},
   "outputs": [
    {
     "name": "stdout",
     "output_type": "stream",
     "text": [
      "0\n",
      "9\n",
      "18\n",
      "27\n",
      "36\n",
      "45\n",
      "54\n",
      "63\n",
      "72\n",
      "81\n",
      "90\n"
     ]
    }
   ],
   "source": [
    "numero = int(input(\"escribe un numero\"))\n",
    "\n",
    "for x in range(11):\n",
    "    print(numero * x)\n",
    "    "
   ]
  },
  {
   "attachments": {},
   "cell_type": "markdown",
   "metadata": {},
   "source": [
    "#### ejercicio 4 :Dada la siguinte lista de números:\n",
    "numbers = [12, 75, 150, 180, 145, 525, 50]\n",
    "Escribid un programa que muestre sólo los números de una lista que cumplan las siguientes condiciones\n",
    "El número debe ser divisible entre cinco\n",
    "Si el número es mayor que 150, se salta y se pasa al siguiente número\n",
    "Si el número es mayor que 500, entonces detenga el bucle"
   ]
  },
  {
   "cell_type": "code",
   "execution_count": 5,
   "metadata": {},
   "outputs": [
    {
     "name": "stdout",
     "output_type": "stream",
     "text": [
      "[75, 150, 145]\n"
     ]
    }
   ],
   "source": [
    "numeros = [12, 75, 150, 180, 145, 525, 50]\n",
    "lista_numeros = []\n",
    "\n",
    "for x in numeros:\n",
    "    if x > 500:\n",
    "        break\n",
    "    elif x > 150:\n",
    "        pass\n",
    "    elif x % 5 == 0:\n",
    "        lista_numeros.append(x)\n",
    "        \n",
    "    \n",
    "\n",
    "print(lista_numeros)"
   ]
  },
  {
   "attachments": {},
   "cell_type": "markdown",
   "metadata": {},
   "source": [
    "### ejercicio 5: \n",
    "\n",
    "Dada la siguiente lista:\n",
    "\n",
    "`list1 = [10, 20, 30, 40, 50]`\n",
    "\n",
    "Imprimir la lista en orden inverso"
   ]
  },
  {
   "cell_type": "code",
   "execution_count": 8,
   "metadata": {},
   "outputs": [
    {
     "name": "stdout",
     "output_type": "stream",
     "text": [
      "[50, 40, 30, 20, 10]\n"
     ]
    }
   ],
   "source": [
    "list1 = [10, 20, 30, 40, 50]\n",
    "print(sorted(list1, reverse=True))"
   ]
  },
  {
   "attachments": {},
   "cell_type": "markdown",
   "metadata": {},
   "source": [
    "### ejercicio 6:\n",
    "Dado el siguiente código\n",
    "```\n",
    "for i in ['1','2','3']:\n",
    "    print (i**2)\n",
    "```\n",
    "Usando un try ... except, cread un programa para evitar que nos de un error el código anterior. En su lugar, si se encuentra un error, deberéis poner el código necesario para que no nos devuelva error."
   ]
  },
  {
   "cell_type": "code",
   "execution_count": 9,
   "metadata": {},
   "outputs": [
    {
     "name": "stdout",
     "output_type": "stream",
     "text": [
      "1\n",
      "4\n",
      "9\n"
     ]
    }
   ],
   "source": [
    "for i in ['1','2','3']:\n",
    "    try:\n",
    "        print (i**2)\n",
    "    except:\n",
    "        print(int(i)** 2)"
   ]
  }
 ],
 "metadata": {
  "kernelspec": {
   "display_name": "adalabenv",
   "language": "python",
   "name": "python3"
  },
  "language_info": {
   "codemirror_mode": {
    "name": "ipython",
    "version": 3
   },
   "file_extension": ".py",
   "mimetype": "text/x-python",
   "name": "python",
   "nbconvert_exporter": "python",
   "pygments_lexer": "ipython3",
   "version": "3.9.7"
  },
  "orig_nbformat": 4
 },
 "nbformat": 4,
 "nbformat_minor": 2
}

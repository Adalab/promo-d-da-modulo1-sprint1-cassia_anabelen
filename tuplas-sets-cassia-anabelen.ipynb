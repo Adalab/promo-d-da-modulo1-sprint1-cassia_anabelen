{
 "cells": [
  {
   "attachments": {},
   "cell_type": "markdown",
   "metadata": {},
   "source": [
    "# Leccion 5: Tuplas y Sets\n",
    "\n",
    "1. Cread una tupla que contenga la letra \"A\"\n",
    "2. Añadid los siguientes elementos \"d\", \"a\", \"l\", \"a\", \"b\" a la tupla definida en el paso anterior. ¿Se puede? ¿Por qué?\n",
    "3. Pensad de que forma podríamos tener una tupla que contenga el siguiente contenido (\"A\", \"d\", \"a\", \"l\", \"a\", \"b\") usando métodos de Python.\n",
    "4. ¿Cuál es el índice de la letra \"l\"?\n",
    "5. ¿Cuántas veces aparece la letra \"a\" en nuestra tupla?\n"
   ]
  },
  {
   "cell_type": "code",
   "execution_count": 1,
   "metadata": {},
   "outputs": [
    {
     "name": "stdout",
     "output_type": "stream",
     "text": [
      "('A',)\n"
     ]
    }
   ],
   "source": [
    "# Ejercicio 1\n",
    " \n",
    "tupla = (\"A\",)\n",
    "print(tupla)"
   ]
  },
  {
   "cell_type": "code",
   "execution_count": 5,
   "metadata": {},
   "outputs": [
    {
     "name": "stdout",
     "output_type": "stream",
     "text": [
      "['A', 'd', 'a', 'l', 'a', 'b']\n",
      "('A', 'd', 'a', 'l', 'a', 'b')\n"
     ]
    }
   ],
   "source": [
    "# Ejercicio 2 y 3\n",
    "\n",
    "# No se puede anadir directamente a una tupla porque son inmutables\n",
    "# Primero hay que convertirlo en lista\n",
    "\n",
    "lista_letras = list(tupla)\n",
    "\n",
    "lista_letras.extend([\"d\", \"a\", \"l\", \"a\", \"b\"])\n",
    "print(lista_letras)\n",
    "\n",
    "tupla2 = tuple(lista_letras)\n",
    "print(tupla2)"
   ]
  },
  {
   "cell_type": "code",
   "execution_count": 7,
   "metadata": {},
   "outputs": [
    {
     "data": {
      "text/plain": [
       "3"
      ]
     },
     "execution_count": 7,
     "metadata": {},
     "output_type": "execute_result"
    }
   ],
   "source": [
    "# Ejercicio 4\n",
    "\n",
    "tupla2.index(\"l\")"
   ]
  },
  {
   "cell_type": "code",
   "execution_count": 8,
   "metadata": {},
   "outputs": [
    {
     "data": {
      "text/plain": [
       "2"
      ]
     },
     "execution_count": 8,
     "metadata": {},
     "output_type": "execute_result"
    }
   ],
   "source": [
    "# Ejercicio 5\n",
    "\n",
    "tupla2.count(\"a\")"
   ]
  },
  {
   "attachments": {},
   "cell_type": "markdown",
   "metadata": {},
   "source": [
    "## Sets\n",
    "1. Dados los siguientes sets:\n",
    "set1 = {1,3,6,2,8,9}\n",
    "set2 = {2,1,9,3,10,18}\n",
    "2. Identifica los elementos que están en set1 pero no en set2. Almacenad los resultados en una variable que se llame set3\n",
    "3. Identifica los elementos que están en set2 pero no en set1. Almacenad los resultados en una variable que se llame set4.\n",
    "4. Identifica los elementos comunes entre el set1 y el set2. Almacenad los resultados en una variable que se llame set5.\n",
    "5. Cread un set vacío llamado set6. Añadid el set3 y set4 al set6.\n",
    "6. ¿Es el set1 igual al set6?\n",
    "7. Chequead si el set1 contiene al set2. 💡Pista: deberéis usar el método issubset()\n",
    "8. Eliminad el primer elemento del set6"
   ]
  },
  {
   "cell_type": "code",
   "execution_count": 14,
   "metadata": {},
   "outputs": [
    {
     "name": "stdout",
     "output_type": "stream",
     "text": [
      "{8, 6}\n"
     ]
    }
   ],
   "source": [
    "# Ejercicio 1\n",
    "\n",
    "set1 = {1,3,6,2,8,9}\n",
    "set2 = {2,1,9,3,10,18}\n",
    "\n",
    "# Ejercicio 2\n",
    "\n",
    "set3 = set1.difference(set2)\n",
    "print(set3)\n"
   ]
  },
  {
   "cell_type": "code",
   "execution_count": 15,
   "metadata": {},
   "outputs": [
    {
     "name": "stdout",
     "output_type": "stream",
     "text": [
      "{18, 10}\n"
     ]
    }
   ],
   "source": [
    "# Ejercicio 3\n",
    "\n",
    "set4 = set2.difference(set1)\n",
    "print(set4)"
   ]
  },
  {
   "cell_type": "code",
   "execution_count": 16,
   "metadata": {},
   "outputs": [
    {
     "name": "stdout",
     "output_type": "stream",
     "text": [
      "{1, 2, 3, 9}\n"
     ]
    }
   ],
   "source": [
    "# Ejercicio 4\n",
    "\n",
    "set5 = set1.intersection(set2)\n",
    "print(set5)"
   ]
  },
  {
   "cell_type": "code",
   "execution_count": 37,
   "metadata": {},
   "outputs": [
    {
     "name": "stdout",
     "output_type": "stream",
     "text": [
      "{8, 18, 10, 6}\n"
     ]
    }
   ],
   "source": [
    "# Ejercicio 5\n",
    "\n",
    "set6 = set()\n",
    "\n",
    "set6 = set6.union(set3, set4)\n",
    "\n",
    "print(set6)\n",
    "\n"
   ]
  },
  {
   "cell_type": "code",
   "execution_count": 33,
   "metadata": {},
   "outputs": [
    {
     "data": {
      "text/plain": [
       "False"
      ]
     },
     "execution_count": 33,
     "metadata": {},
     "output_type": "execute_result"
    }
   ],
   "source": [
    "# Ejercicio 6 \n",
    "\n",
    "set1 == set6"
   ]
  },
  {
   "cell_type": "code",
   "execution_count": 34,
   "metadata": {},
   "outputs": [
    {
     "data": {
      "text/plain": [
       "False"
      ]
     },
     "execution_count": 34,
     "metadata": {},
     "output_type": "execute_result"
    }
   ],
   "source": [
    "# Ejercicio 7\n",
    "\n",
    "set1.issuperset(set2)"
   ]
  },
  {
   "cell_type": "code",
   "execution_count": 35,
   "metadata": {},
   "outputs": [
    {
     "data": {
      "text/plain": [
       "False"
      ]
     },
     "execution_count": 35,
     "metadata": {},
     "output_type": "execute_result"
    }
   ],
   "source": [
    "# o se puede usar subset\n",
    "\n",
    "set2.issubset(set1)"
   ]
  },
  {
   "cell_type": "code",
   "execution_count": 41,
   "metadata": {},
   "outputs": [
    {
     "name": "stdout",
     "output_type": "stream",
     "text": [
      "{8, 18, 10, 6}\n",
      "{18, 10, 6}\n"
     ]
    }
   ],
   "source": [
    "# Ejercicio 8 \n",
    "\n",
    "# podemos quitar un elemento y hemos quitado lo que salia primero en este momento\n",
    "\n",
    "print(set6)\n",
    "\n",
    "set6.remove(8)\n",
    "\n",
    "print(set6)"
   ]
  }
 ],
 "metadata": {
  "kernelspec": {
   "display_name": "adalabenv",
   "language": "python",
   "name": "python3"
  },
  "language_info": {
   "codemirror_mode": {
    "name": "ipython",
    "version": 3
   },
   "file_extension": ".py",
   "mimetype": "text/x-python",
   "name": "python",
   "nbconvert_exporter": "python",
   "pygments_lexer": "ipython3",
   "version": "3.9.7"
  },
  "orig_nbformat": 4
 },
 "nbformat": 4,
 "nbformat_minor": 2
}
